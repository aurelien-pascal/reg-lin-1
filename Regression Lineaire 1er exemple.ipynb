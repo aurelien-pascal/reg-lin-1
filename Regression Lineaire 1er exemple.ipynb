{
 "cells": [
  {
   "cell_type": "markdown",
   "id": "b838bf9a",
   "metadata": {},
   "source": [
    "# La régression linéaire"
   ]
  },
  {
   "cell_type": "markdown",
   "id": "402ba011",
   "metadata": {},
   "source": [
    "On cherche ici à vérifier une relation linéaire du type $Y = aX + b$ entre deux grandeurs physiques $Y$ et $X$.\n",
    "\n",
    "Pour cela on a réalisé $N$ mesures de chacunes de grandeurs : $\\lbrace X_1, ..., X_N \\rbrace$ et $\\lbrace Y_1, ... Y_N \\rbrace$."
   ]
  },
  {
   "cell_type": "markdown",
   "id": "889067e0",
   "metadata": {},
   "source": [
    "##### Importation des modules utiles"
   ]
  },
  {
   "cell_type": "code",
   "execution_count": 1,
   "id": "1098c02b",
   "metadata": {},
   "outputs": [],
   "source": [
    "import numpy as np # pour les tableaux scientifiques\n",
    "import matplotlib.pyplot as plt # pour les tracés de graphiques"
   ]
  },
  {
   "cell_type": "markdown",
   "id": "e6e32b91",
   "metadata": {},
   "source": [
    "## Étude du jeu de données"
   ]
  },
  {
   "cell_type": "markdown",
   "id": "494a3271",
   "metadata": {},
   "source": [
    "Le jeu de données est mis en place ci-dessous."
   ]
  },
  {
   "cell_type": "code",
   "execution_count": 2,
   "id": "1af90c75",
   "metadata": {},
   "outputs": [],
   "source": [
    "X = np.array([ 4.15, 8.41, 16.60, 20.96, 26.48, 30.19, 39.10, 37.68, 50.78,59.21 ])\n",
    "\n",
    "Y = np.array([10.61, 19.27, 26.11, 39.33, 53.78, 59.12, 64.58, 77.43, 83.87, 101.37])"
   ]
  },
  {
   "cell_type": "markdown",
   "id": "c6b0749d",
   "metadata": {},
   "source": [
    "Voici une représentation graphique du jeu de données. On devine une relation linéaire.\n",
    "Remarquez que lorsqu'on trace un jeu de données expérimentales on ne relie jamais les points."
   ]
  },
  {
   "cell_type": "code",
   "execution_count": 3,
   "id": "ce42571a",
   "metadata": {},
   "outputs": [
    {
     "data": {
      "image/png": "[encoded data removed]",
      "text/plain": [
       "<Figure size 432x288 with 1 Axes>"
      ]
     },
     "metadata": {
      "needs_background": "light"
     },
     "output_type": "display_data"
    }
   ],
   "source": [
    "plt.plot(X,Y,'+',markersize=20)\n",
    "\n",
    "plt.xlabel('X')\n",
    "plt.ylabel('Y')\n",
    "\n",
    "plt.show()"
   ]
  },
  {
   "cell_type": "markdown",
   "id": "f64446a3",
   "metadata": {},
   "source": [
    "## Calcul de la regression linéaire"
   ]
  },
  {
   "cell_type": "markdown",
   "id": "1ea50746",
   "metadata": {},
   "source": [
    "On appelle la fonction linregress du module scipy.stats, qui renvoie les meilleures estimations des coefficients $a$ et $b$ de la regression.\n",
    "Ci-dessous le mode d'emploi de cette fonction."
   ]
  },
  {
   "cell_type": "code",
   "execution_count": 4,
   "id": "d30686fe",
   "metadata": {},
   "outputs": [
    {
     "name": "stdout",
     "output_type": "stream",
     "text": [
      "Help on function linregress in module scipy.stats._stats_mstats_common:\n",
      "\n",
      "linregress(x, y=None, alternative='two-sided')\n",
      "    Calculate a linear least-squares regression for two sets of measurements.\n",
      "    \n",
      "    Parameters\n",
      "    ----------\n",
      "    x, y : array_like\n",
      "        Two sets of measurements.  Both arrays should have the same length.  If\n",
      "        only `x` is given (and ``y=None``), then it must be a two-dimensional\n",
      "        array where one dimension has length 2.  The two sets of measurements\n",
      "        are then found by splitting the array along the length-2 dimension. In\n",
      "        the case where ``y=None`` and `x` is a 2x2 array, ``linregress(x)`` is\n",
      "        equivalent to ``linregress(x[0], x[1])``.\n",
      "    alternative : {'two-sided', 'less', 'greater'}, optional\n",
      "        Defines the alternative hypothesis. Default is 'two-sided'.\n",
      "        The following options are available:\n",
      "    \n",
      "        * 'two-sided': the slope of the regression line is nonzero\n",
      "        * 'less': the slope of the regression line is less than zero\n",
      "        * 'greater':  the slope of the regression line is greater than zero\n",
      "    \n",
      "        .. versionadded:: 1.7.0\n",
      "    \n",
      "    Returns\n",
      "    -------\n",
      "    result : ``LinregressResult`` instance\n",
      "        The return value is an object with the following attributes:\n",
      "    \n",
      "        slope : float\n",
      "            Slope of the regression line.\n",
      "        intercept : float\n",
      "            Intercept of the regression line.\n",
      "        rvalue : float\n",
      "            The Pearson correlation coefficient. The square of ``rvalue``\n",
      "            is equal to the coefficient of determination.\n",
      "        pvalue : float\n",
      "            The p-value for a hypothesis test whose null hypothesis is\n",
      "            that the slope is zero, using Wald Test with t-distribution of\n",
      "            the test statistic. See `alternative` above for alternative\n",
      "            hypotheses.\n",
      "        stderr : float\n",
      "            Standard error of the estimated slope (gradient), under the\n",
      "            assumption of residual normality.\n",
      "        intercept_stderr : float\n",
      "            Standard error of the estimated intercept, under the assumption\n",
      "            of residual normality.\n",
      "    \n",
      "    See Also\n",
      "    --------\n",
      "    scipy.optimize.curve_fit :\n",
      "        Use non-linear least squares to fit a function to data.\n",
      "    scipy.optimize.leastsq :\n",
      "        Minimize the sum of squares of a set of equations.\n",
      "    \n",
      "    Notes\n",
      "    -----\n",
      "    Missing values are considered pair-wise: if a value is missing in `x`,\n",
      "    the corresponding value in `y` is masked.\n",
      "    \n",
      "    For compatibility with older versions of SciPy, the return value acts\n",
      "    like a ``namedtuple`` of length 5, with fields ``slope``, ``intercept``,\n",
      "    ``rvalue``, ``pvalue`` and ``stderr``, so one can continue to write::\n",
      "    \n",
      "        slope, intercept, r, p, se = linregress(x, y)\n",
      "    \n",
      "    With that style, however, the standard error of the intercept is not\n",
      "    available.  To have access to all the computed values, including the\n",
      "    standard error of the intercept, use the return value as an object\n",
      "    with attributes, e.g.::\n",
      "    \n",
      "        result = linregress(x, y)\n",
      "        print(result.intercept, result.intercept_stderr)\n",
      "    \n",
      "    Examples\n",
      "    --------\n",
      "    >>> import matplotlib.pyplot as plt\n",
      "    >>> from scipy import stats\n",
      "    >>> rng = np.random.default_rng()\n",
      "    \n",
      "    Generate some data:\n",
      "    \n",
      "    >>> x = rng.random(10)\n",
      "    >>> y = 1.6*x + rng.random(10)\n",
      "    \n",
      "    Perform the linear regression:\n",
      "    \n",
      "    >>> res = stats.linregress(x, y)\n",
      "    \n",
      "    Coefficient of determination (R-squared):\n",
      "    \n",
      "    >>> print(f\"R-squared: {res.rvalue**2:.6f}\")\n",
      "    R-squared: 0.717533\n",
      "    \n",
      "    Plot the data along with the fitted line:\n",
      "    \n",
      "    >>> plt.plot(x, y, 'o', label='original data')\n",
      "    >>> plt.plot(x, res.intercept + res.slope*x, 'r', label='fitted line')\n",
      "    >>> plt.legend()\n",
      "    >>> plt.show()\n",
      "    \n",
      "    Calculate 95% confidence interval on slope and intercept:\n",
      "    \n",
      "    >>> # Two-sided inverse Students t-distribution\n",
      "    >>> # p - probability, df - degrees of freedom\n",
      "    >>> from scipy.stats import t\n",
      "    >>> tinv = lambda p, df: abs(t.ppf(p/2, df))\n",
      "    \n",
      "    >>> ts = tinv(0.05, len(x)-2)\n",
      "    >>> print(f\"slope (95%): {res.slope:.6f} +/- {ts*res.stderr:.6f}\")\n",
      "    slope (95%): 1.453392 +/- 0.743465\n",
      "    >>> print(f\"intercept (95%): {res.intercept:.6f}\"\n",
      "    ...       f\" +/- {ts*res.intercept_stderr:.6f}\")\n",
      "    intercept (95%): 0.616950 +/- 0.544475\n",
      "\n"
     ]
    }
   ],
   "source": [
    "from scipy.stats import linregress\n",
    "help(linregress)"
   ]
  },
  {
   "cell_type": "markdown",
   "id": "23b53333",
   "metadata": {},
   "source": [
    "Cette fonction prend comme arguent les tableaux de données X et Y.\n",
    "Le resultat de cette fonction (que l'on stockera dans la variable 'fit') contient toutes les informations de la regression. De sorte que : \n",
    "* fit.slope correspond à la pente a\n",
    "* fit.intercept correspond à l'ordonnée à l'origine b\n",
    "* fit.rvalue correspond au coefficient de corrélation $r^2$"
   ]
  },
  {
   "cell_type": "code",
   "execution_count": 5,
   "id": "bef8b5f7",
   "metadata": {},
   "outputs": [
    {
     "name": "stdout",
     "output_type": "stream",
     "text": [
      "a =  1.6452333192300532\n",
      "b =  5.249530680682561\n",
      "r =  0.9846377610680899\n"
     ]
    }
   ],
   "source": [
    "fit = linregress(X,Y)\n",
    "a = fit.slope\n",
    "b = fit.intercept\n",
    "r = fit.rvalue\n",
    "print(\"a = \",a)\n",
    "print(\"b = \",b)\n",
    "print(\"r = \",r)"
   ]
  },
  {
   "cell_type": "markdown",
   "id": "4fae3a43",
   "metadata": {},
   "source": [
    "On définit la fonction suivante : $$f : x \\mapsto ax+b$$"
   ]
  },
  {
   "cell_type": "code",
   "execution_count": 6,
   "id": "cb2921a5",
   "metadata": {},
   "outputs": [],
   "source": [
    "def f(x):\n",
    "    return a*x + b"
   ]
  },
  {
   "cell_type": "markdown",
   "id": "de22218b",
   "metadata": {},
   "source": [
    "On ajoute la fonction de regression sur le tracé :"
   ]
  },
  {
   "cell_type": "code",
   "execution_count": 7,
   "id": "e6c462c5",
   "metadata": {},
   "outputs": [
    {
     "data": {
      "image/png": "[encoded data removed]",
      "text/plain": [
       "<Figure size 432x288 with 1 Axes>"
      ]
     },
     "metadata": {
      "needs_background": "light"
     },
     "output_type": "display_data"
    }
   ],
   "source": [
    "plt.plot(X,Y,'+',markersize=20)\n",
    "\n",
    "u = np.linspace(min(X),max(X),100)\n",
    "plt.plot(u,f(u),'r-',label=\"f(x)=a*x+b\")\n",
    "\n",
    "plt.xlabel('X')\n",
    "plt.ylabel('Y')\n",
    "\n",
    "plt.legend()\n",
    "plt.show()"
   ]
  }
 ],
 "metadata": {
  "kernelspec": {
   "display_name": "Python 3 (ipykernel)",
   "language": "python",
   "name": "python3"
  },
  "language_info": {
   "codemirror_mode": {
    "name": "ipython",
    "version": 3
   },
   "file_extension": ".py",
   "mimetype": "text/x-python",
   "name": "python",
   "nbconvert_exporter": "python",
   "pygments_lexer": "ipython3",
   "version": "3.10.6"
  }
 },
 "nbformat": 4,
 "nbformat_minor": 5
}
